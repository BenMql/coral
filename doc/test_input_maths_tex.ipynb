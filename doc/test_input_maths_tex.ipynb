## Interlude: The quasi-Inverse technique
* * *

The keep the condition number of matrices under control (and prevent any loss of accuracy as the number of Chebyshev polynomials increases), we use the quasi-inverse technique. (See, e.g. Zebib, J. Comput. Phys. (1984) or Greengard, SIAM J. Numer. Anal. (1991), or Julien and Watson, J. Comput. Phys. (2009)]. 

The spirit of this approach is merely to eliminate all derivatives with respect to z by consecutive integrations with respect to z. For instance, the heat equation:
$$\frac{du}{dt}= \frac{d^2u}{dx^2} + \frac{d^2u}{dy^2}+ \frac{d^2u}{dz^2} $$
is second order in z. Upon double integration w.r.t. z (denoted with `I`), one obtains:
```
d/dt( II u ) = II du/dxx + II du/dyy + u
```
Observe that this method typically introduces primitive operators `I` in the time-derivative. Integration constant need not be explicited (they will automatically be taken into account with boundary conditions). Before we enter equation, the prerequisite is to rewrite our governing equations using this method. Upon completion of this task, we are ready to enter them. 
