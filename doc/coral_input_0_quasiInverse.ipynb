{
 "metadata": {
  "name": ""
 },
 "nbformat": 3,
 "nbformat_minor": 0,
 "worksheets": [
  {
   "cells": [
    {
     "cell_type": "heading",
     "level": 1,
     "metadata": {},
     "source": [
      "Quasi-Inverse method: principle and applications"
     ]
    },
    {
   "cell_type": "markdown",
   "metadata": {},
   "source": [
   "To keep the condition number of matrices under control (and prevent any loss of accuracy as the number of Chebyshev polynomials increases), we use the quasi-inverse technique. (See, e.g. Zebib, J. Comput. Phys. (1984) or Greengard, SIAM J. Numer. Anal. (1991), or Julien and Watson, J. Comput. Phys. (2009)]. ",
   "\n",
   "The spirit of this approach is merely to eliminate all derivatives with respect to z by consecutive integrations with respect to z. For instance, the heat equation:\n",
   "$$\n",
   "\\frac{\\partial}{\\partial_t}u = \\partial_{xx} u + \\partial_{yy} u + \\partial_{zz} u \n",
   "$$\n",
   "is second order in z. Upon double integration w.r.t. z, one obtains: \n",
   "$$\n",
   "\\frac{\\partial}{\\partial_t}\\iint u = \\partial_{xx} \\iint u  + \\partial_{yy} \\iint u +  u \n",
   "$$\n",
   "Observe that this method typically introduces primitive operators $\\iint$ in the time-derivative. Integration constant need not be explicited (they will automatically be taken into account with boundary conditions). Before we enter equation, the prerequisite is to rewrite our governing equations using this method. Upon completion of this task, we are ready to enter them. "
     ]
    }
   ],
   "metadata": {}
  }
 ]
}

