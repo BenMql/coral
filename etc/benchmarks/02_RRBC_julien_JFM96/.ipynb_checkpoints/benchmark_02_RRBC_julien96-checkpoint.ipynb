{
 "cells": [
  {
   "cell_type": "markdown",
   "metadata": {},
   "source": [
    "## Benchmark 02: Stress-free Rayleigh-Benard\n",
    "\n",
    "### Overview\n",
    "In this benchmark, we compute the fluid instability that develops when a layer of fluid is heated from below and cooled from the top in presence of rotation. The heat transport in the statistically steady state is computed and checked against values reported by Julien, Legg, McWilliams, and Werne (J. Fluid Mech. 1996). Further, suppposing an incompressible flow, we show how the problem can be formulated using velocity-pressure variables, or decomposing the velocity field using toroidal and poloidal potentials. \n",
    "\n",
    "### Governing equations\n",
    "A fluid layer of thickness $H$ is delimited by horizontal bounding surfaces, separated by a distance $H$ and orthogonal to gravity $\\mathbf{g} = -g \\mathbf{\\widehat{e}_z}$. The bottom surface is hotter than the top surface by a temperature difference $\\Delta T$. The fluid in the layer has kinematic viscosity $\\nu$, thermal diffusivity $\\kappa$, and rotates at a constant rate $\\Omega$. Following the Boussinesq approximation, we suppose that the density of the fluid varies linearly with temperature: $\\rho(T)= \\rho(T_0) \\left(1-\\alpha (T-T_0) \\right)$ where $\\alpha$ is the thermal expansivity coefficient. We make the problem dimensionless by counting length in units of $H$, temperature in units of $\\Delta T$, and time in units of the diffusive time $H/\\kappa$. Thus the fluid domain is delimited by $0\\le z \\le 1$. The two dimensionless parameters are the Rayleigh number (that quantifies buoyancy), the Prandtl number (the diffusivity ratio), and the Ekman number (inversely proportionnal to rotation):\n",
    "\\begin{equation}\n",
    "\\mathrm{Ra} = \\frac{\\alpha g \\Delta T H^3}{\\nu\\kappa}; \\qquad \\mathrm{Pr} = \\frac{\\nu}{\\kappa}; \\qquad \\mathrm{E} = \\frac{\\nu}{2\\Omega H^2}\n",
    "\\end{equation}\n",
    "\n",
    "### Velocity-Pressure formulation\n",
    "A simple, stationary and motionless solution is the conductive solution, where the fluid is at rest and a linear temperature gradient exists in the layer. The governing equations for the velocity field $\\boldsymbol{u}$ and the temperature fluctuations $\\theta$ that grow on top of the linear background $-z$ are:\n",
    "\n",
    "\\begin{gather}\n",
    "\\partial_t \\boldsymbol{u} + \\boldsymbol{u\\cdot \\nabla u} + \\mathrm{PrE}^{-1} \\mathbf{\\widehat{e}_z}\\times \\boldsymbol{u}= - \\nabla p + \\mathrm{RaPr}\\, \\theta \\mathbf{\\widehat{e}_z} + \\mathrm{Pr} \\nabla^2 \\boldsymbol{u}\\nonumber \\\\\n",
    "\\partial_t \\theta + \\boldsymbol{u\\cdot \\nabla}\\theta - w =  \\nabla^2 \\theta\\nonumber \\\\\n",
    "\\boldsymbol{\\nabla\\cdot u} = 0 \\nonumber\n",
    "\\end{gather}\n",
    "\n",
    "In this benchmark, we consider fixed temperature and no-slip boundary conditions. For both $z=0$ and $z=1$:\n",
    "\\begin{gather}\n",
    "\\theta= \\theta = 0\\nonumber \\\\\n",
    " u =  v = w = 0\n",
    "\\end{gather}\n",
    "\n",
    "### Toroidal-Poloidal formulation\n",
    "A solenoidal velocity field $\\boldsymbol{\\nabla\\cdot u} = 0$ is obtained by introducing velocity potentials $\\psi(x,y,z)$ and $\\phi(x,y,z)$ such that:\n",
    "\\begin{equation}\n",
    "\\boldsymbol{u}(x,y,z) = \\boldsymbol{\\nabla}\\times \\boldsymbol{\\nabla} \\times \\phi \\mathbf{\\widehat{e}_z} +  \\boldsymbol{\\nabla} \\times \\psi \\mathbf{\\widehat{e}_z}  + u_{\\mathrm{mean}}(z) \\mathbf{\\widehat{e}_x}  + v_{\\mathrm{mean}}(z) \\mathbf{\\widehat{e}_y} \\nonumber\n",
    "\\end{equation}\n",
    "where $u_{\\mathrm{mean}}(z) $ and $v_{\\mathrm{mean}}(z)$ are mean flows that only depend on depth. Written in coordinate form:\n",
    "\\begin{gather}\n",
    "u(x,y,z) = \\partial_y \\psi + \\partial_{xz}\\phi + u_{\\mathrm{mean}}(z) \\nonumber \\\\\n",
    "v(x,y,z) = - \\partial_x \\psi + \\partial_{yz}\\phi + v_{\\mathrm{mean}}(z) \\nonumber \\\\\n",
    "w(x,y,z) = - \\nabla_\\perp^2 \\phi \\nonumber\n",
    "\\end{gather}\n",
    "where $\\nabla_\\perp^2 = \\partial_{xx} + \\partial_{yy} = \\Delta - \\partial_{zz}$ is the horizontal laplacian. No-slip boundary conditions translate to:\n",
    "$\\phi = \\partial_z \\phi = \\psi = 0$\n",
    "\n",
    "Hitting the momentum-conservation equation with $\\mathbf{\\widehat{e}_z}\\boldsymbol{\\cdot\\nabla} \\times$ and $\\mathbf{\\widehat{e}_z}\\boldsymbol{\\cdot\\nabla} \\times\\boldsymbol{\\cdot\\nabla} \\times$, one gets the governing equations for the potential $\\psi$: \n",
    "\n",
    "\\begin{multline}\n",
    "-\\partial_t \\nabla_\\perp^2 \\psi = - \\mathrm{PrE}^{-1}\\partial_z \\nabla_\\perp^2 \\phi -\\mathrm{Pr} \\Delta \\nabla^2_\\perp  \\psi +  \\nonumber \\\\\n",
    " \\partial_{xy} u^2 + \\partial_{yy}uv + \\partial_{zy}uw -  \\partial_{xx} uv - \\partial_{xy}v^2 - \\partial_{xz}vw,\n",
    "\\end{multline}\n",
    "the governing equation for the potential $\\phi$:\n",
    "\\begin{multline}\n",
    "\\partial_t \\Delta \\nabla_\\perp^2 \\phi = - \\mathrm{PrE}^{-1}\\partial_z \\nabla_\\perp^2 \\psi  +\\mathrm{Pr} \\Delta^2 \\nabla^2_\\perp  \\psi + \\nonumber \\\\ - \\mathrm{RaPr} \\nabla_\\perp^2 \\theta \\nonumber \\\\+ \\partial_{x}\\nabla_\\perp^2 uw + \\partial_{y}\\nabla_\\perp^2 vw +\n",
    "\\partial_z \\nabla_\\perp^2 w^2 \\nonumber \\\\- \\partial_{zxx}u^2 - \\partial_{zyy}v^2 -2 \\partial_{xyz}uv - \\partial_{zzx}uw - \\partial_{zzy}vw,\n",
    "\\end{multline}\n",
    "and the governing equation for $\\theta$:\n",
    "\\begin{equation}\n",
    "\\partial_t \\theta = -\\nabla_\\perp^2\\phi + \\nabla^2 \\theta  - \\boldsymbol{\\nabla\\cdot} \\left( \\theta \\boldsymbol{u}\\right) \n",
    "\\end{equation}\n"
   ]
  },
  {
   "cell_type": "markdown",
   "metadata": {},
   "source": [
    "### Numerical simulation\n",
    "\n",
    "Prepare a directory for this benchmark, where you copy the content of this folder. The input files are setup for reproducing the third no-slip case reported in Julien et al., J. Fluid Mech. 1996 (see their Table 1, p248): using $\\mathrm{Pr} = 1$, $\\mathrm{Ra}=2.81\\times 10^5$ and $\\mathrm{E}^{-1} = \\sqrt{\\mathrm{Ta}} = \\sqrt{500,000}$, in a $(2,2,1)$ box. Before running the executable, depending on which formulation you wish to use, enter either `cp coral.equations.velocityPressure coral.equations` or `cp coral.equations.toroidalPoloidal coral.equations`. The output file `coral.timeseries` is set to record timeseries of horizontally-averages temperature at the first (`z=1`) and last (`z=72`) gridpoints, which are necessary to compute the Nusselt number (heat flux). Run the code using a handful of cores (possibly on a laptop), ideally for a few tens of thousand of timesteps.\n",
    "\n",
    "A posteriori, you can display the kinetic energy with \n",
    "```\n",
    "python plot_volAvg_timeseries.py uu vv ww\n",
    "```\n",
    "![kinetic energy timeseries](http://www.normalesup.org/~benmiquel/pictures/benchmark_01/KE_timeseries.png)\n",
    "\n",
    "A more quantitative comparison of the analytic growthrate and the growthrate of the numerical solution during the exponential growth phase can be obtained with:\n",
    "```\n",
    "python linearGrowthrate_numerical_vs_analytical.py \n",
    "```\n",
    "![growthrate vs wavenumber (analytic)](http://www.normalesup.org/~benmiquel/pictures/benchmark_01/growthrate_vs_k.png)\n",
    "\n",
    "![growthrate timeseries (Coral)](http://www.normalesup.org/~benmiquel/pictures/benchmark_01/growthrate_timeseries.png)\n",
    "\n"
   ]
  },
  {
   "cell_type": "code",
   "execution_count": null,
   "metadata": {},
   "outputs": [],
   "source": []
  }
 ],
 "metadata": {
  "kernelspec": {
   "display_name": "Python 3",
   "language": "python",
   "name": "python3"
  },
  "language_info": {
   "codemirror_mode": {
    "name": "ipython",
    "version": 3
   },
   "file_extension": ".py",
   "mimetype": "text/x-python",
   "name": "python",
   "nbconvert_exporter": "python",
   "pygments_lexer": "ipython3",
   "version": "3.8.5"
  }
 },
 "nbformat": 4,
 "nbformat_minor": 2
}
