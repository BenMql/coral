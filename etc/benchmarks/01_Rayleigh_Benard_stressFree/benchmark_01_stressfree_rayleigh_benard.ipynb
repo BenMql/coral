{
 "cells": [
  {
   "cell_type": "markdown",
   "metadata": {},
   "source": [
    "# Benchmark 01: Stress-free Rayleigh-Benard\n",
    "\n",
    "### Overview\n",
    "In this benchmark, we compute the fluid instability that develops when a layer of fluid is heated from below and cooled from the top. The linear growthrate of the instability is checked against analytic theory.\n",
    "\n",
    "### Governing equations\n",
    "A fluid layer of thickness $H$ is delimited by horizontal bounding surfaces, separated by a distance $H$ and orthogonal to gravity $\\mathbf{g} = -g \\mathbf{\\widehat{e}_z}$. The bottom surface is hotter than the top surface by a temperature difference $\\Delta T$. The fluid in the layer has kinematic viscosity $\\nu$, thermal diffusivity $\\kappa$. Following the Boussinesq approximation, we suppose that the density of the fluid varies linearly with temperature: $\\rho(T)= \\rho(T_0) \\left(1-\\alpha (T-T_0) \\right)$ where $\\alpha$ is the thermal expansivity coefficient. We make the problem dimensionless by counting length in units of $H$, temperature in units of $\\Delta T$, and time in units of the diffusive time $H/\\kappa$. Thus the fluid domain is delimited by $0\\le z \\le 1$. The two dimensionless parameters are the Rayleigh number (that quantifies buoyancy) and the Prandtl number (the diffusivity ratio):\n",
    "\\begin{equation}\n",
    "\\mathrm{Ra} = \\frac{\\alpha g \\Delta T H^3}{\\nu\\kappa}; \\qquad \\mathrm{Pr} = \\frac{\\nu}{\\kappa}\n",
    "\\end{equation}\n",
    "\n",
    "A simple, stationary and motionless solution is the conductive solution, where the fluid is at rest and a linear temperature gradient exists in the layer. The governing equations for the velocity field $\\boldsymbol{u}$ and the temperature fluctuations $\\theta$ that grow on top of the linear background $-z$ are:\n",
    "\n",
    "\\begin{gather}\n",
    "\\partial_t \\boldsymbol{u} + \\boldsymbol{u\\cdot \\nabla u} = - \\nabla p + \\mathrm{RaPr}\\, \\theta \\mathbf{\\widehat{e}_z} + \\mathrm{Pr} \\nabla^2 \\boldsymbol{u}\\nonumber \\\\\n",
    "\\partial_t \\theta + \\boldsymbol{u\\cdot \\nabla}\\theta - w =  \\nabla^2 \\theta\\nonumber \n",
    "\\end{gather}\n",
    "\n",
    "In this benchmark, we consider fixed temperature and stress-free boundary conditions. For both $z=0$ and $z=1$:\n",
    "\\begin{gather}\n",
    "\\theta= \\theta = 0\\nonumber \\\\\n",
    "\\partial_z u = \\partial_z v = 0, \\quad w=0\\nonumber\n",
    "\\end{gather}\n",
    "\n",
    "### Linear stability predictions\n",
    "\n",
    "Supposing normal mode solutions $u=u_0 \\sin(\\pi z) \\exp\\left( i\\boldsymbol{k_\\perp \\cdot x_\\perp} + st\\right)$, etc., where $\\boldsymbol{x_\\perp} = (x,y,0)$ is the horizontal position, $\\boldsymbol{k_\\perp} = (k_x, k_y,0)$ is the horizontal wavenumber, and $s$ is the growthrate, one finds the dispersion relation:\n",
    "\n",
    "\\begin{equation}\n",
    "\\left(\\mathrm{Pr} D^2 + s\\right) \\left( D^2+s\\right) = \\mathrm{RaPr}\\frac{k^2_\\perp}{D^2} \\nonumber\n",
    "\\end{equation}\n",
    "\n",
    "with $D^2 = \\pi^2 + k^2_\\perp$. Thus, instability settles ($s=0$) first for $k^2_\\perp = \\frac{\\pi^2}{2}$ at the critical value $\\mathrm{Ra_c}=\\frac{27}{4}\\pi^4\\approx 657.5$ \n",
    "\n",
    "For higher Rayleigh numbers, the growthrate $s$ is obtained for different wavenumbers using:\n",
    "\n",
    "\\begin{equation}\n",
    "s = \\frac{1}{2}\\left( -D^2 \\left(\\mathrm{Pr}+1\\right) + \\sqrt { D^4 \\left(\\mathrm{Pr}+1\\right)^2 -4 \\left[\\mathrm{Pr}D^4 - \\mathrm{RaPr}k^2/D^2 \\right]}\\right)\n",
    "\\end{equation}\n",
    "\n",
    "This growthrate can be computed using the script below"
   ]
  },
  {
   "cell_type": "code",
   "execution_count": 1,
   "metadata": {},
   "outputs": [
    {
     "data": {
      "text/plain": [
       "<Figure size 640x480 with 1 Axes>"
      ]
     },
     "metadata": {},
     "output_type": "display_data"
    },
    {
     "name": "stdout",
     "output_type": "stream",
     "text": [
      "maximum growthrate s = 24.137487072074805\n",
      "optimal wavenumber k = 2.8028028028028027\n",
      "optimal wavelength l = 2.241750757811574\n"
     ]
    }
   ],
   "source": [
    "import numpy as np\n",
    "import matplotlib.pyplot as plt\n",
    "prandtl = 7.\n",
    "rayleigh=2000.\n",
    "k = np.linspace(0,10, num=1000)\n",
    "D2 = k**2 + np.pi**2\n",
    "s = -D2*(prandtl+1.) + np.sqrt((prandtl+1)**2*D2**2 - 4.*(prandtl*D2**2 - rayleigh*prandtl* k**2 /D2))\n",
    "s*= 0.5\n",
    "plt.plot(k, s)\n",
    "plt.xlabel('wavenumber k')\n",
    "plt.ylabel('growthrate s(k)')\n",
    "plt.show()\n",
    "print('maximum growthrate s = '+ str(s.max()))\n",
    "print('optimal wavenumber k = '+str(k[s==s.max()][0]))\n",
    "print('optimal wavelength l = '+str(2*np.pi/k[s==s.max()][0]))\n"
   ]
  },
  {
   "cell_type": "markdown",
   "metadata": {},
   "source": [
    "### Numerical simulation\n",
    "\n",
    "Prepare a directory for this benchmark, where you copy the content of this folder. The input files are setup for simulating the Rayleigh Benard problem in a $(10,10,1)$ box, with $\\mathrm{Ra}=2000$ and $\\mathrm{Pr}=7$, with stress-free and fixed temperature boundary conditions. Run the code using a handful of cores (possibly on a laptop), ideally for a few tens of thousand of timesteps.\n",
    "\n",
    "A posteriori, you can display the kinetic energy with \n",
    "```\n",
    "python plot_volAvg_timeseries.py uu vv ww\n",
    "```\n",
    "![kinetic energy timeseries](http://www.normalesup.org/~benmiquel/pictures/benchmark_01/KE_timeseries.png)\n",
    "\n",
    "A more quantitative comparison of the analytic growthrate and the growthrate of the numerical solution during the exponential growth phase can be obtained with:\n",
    "```\n",
    "python linearGrowthrate_numerical_vs_analytical.py \n",
    "```\n",
    "![growthrate vs wavenumber (analytic)](http://www.normalesup.org/~benmiquel/pictures/benchmark_01/growthrate_vs_k.png)\n",
    "\n",
    "![growthrate timeseries (Coral)](http://www.normalesup.org/~benmiquel/pictures/benchmark_01/growthrate_timeseries.png)\n",
    "\n"
   ]
  }
 ],
 "metadata": {
  "kernelspec": {
   "display_name": "Python 2",
   "language": "python",
   "name": "python2"
  },
  "language_info": {
   "codemirror_mode": {
    "name": "ipython",
    "version": 2
   },
   "file_extension": ".py",
   "mimetype": "text/x-python",
   "name": "python",
   "nbconvert_exporter": "python",
   "pygments_lexer": "ipython2",
   "version": "2.7.15"
  }
 },
 "nbformat": 4,
 "nbformat_minor": 2
}
