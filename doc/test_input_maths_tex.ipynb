
[Back to home](./Home)
* * *
* * * 
# Entering equations in Coral.
* * * 
## Overview
* * * 

Equations can be input in the form of a text file, an example of which is `{CORAL_ROOT}/etc/coral_equations_examples/coral.equations.RBC_primitiveVars_Vanilla` which implements rotating Rayleigh-Benard convection, in the primitive variables formulations. We will now go through this file to understand it (and possibly modify it). Prior to reading what follows, however, the reader is advised to have a quick glance at the content of the file, to get a general picture.

## Generalities

Information should be entered in a given order, and it is recommended to use comment lines `>>====================<<`, which are ignored by the executable, to keep the file structured, clean, and legible by humans.

All lines start with `>>kindOfInformation` and end with `<<`, where `kindOfInformation` is a tag that designates what information is provided in the current line, e.g. `Param`, or `new_equation`, or `add_rhs_linear`. We indicate thereafter how to enter equations in the correct order.

* * * 
## Parameters
* * * 
At the top, we define numerical parameters, in the format:
```
>>Param :: paramName := paramValue <<
```
where paramName is a string use to refer to the parameter (`Prandtl`, `iEkman`, `RayleighPr`, etc.), and paramValue is a real, double precision number in fortran syntax (2.5d0, 1.d7, 2.d-6).

* * *
## Linearly coupled variables
* * * 

Here we introduce a subtlety of coral: we distinguish between fluctuations and mean. Fluctuations depend on x,y, and z, and have a zero x,y-mean. Mean fields depend only on z. The reason behind that is the Navier-Stokes equation. Written in primitive variables, the mean flows obey equations that are significantly different than the finite k modes. (Pressure and the vertical velocity are absent for the mean flows.) Written using velocity potential, the difference is even more noticeable: fluctuations can be written as a curl and a double curl, whereas mean flows are ... well just mean flows. For this reason, it was decided that mean and fluctuations would be *permanently* distinguished.

To create linearly coupled variables, corresponding either to a mean field or to finite wave numbers, enter their name (you get to choose!) after the tag `linear_variable_{kxky,mean}`:
``` 
>>linear_variable_kxky :: u <<
>>linear_variable_kxky :: p <<
>>linear_variable_mean :: uMean <<
```

* * *
## Assembling the fluctuations and the means
* * * 

Having separated the mean and fluctuating components of each variables, we now need to stitch them in order to form the "full" linear variables. For each full linear variable, we first choose and declare its name, for instance:
```
>>linear_variable_full :: uFull <<
```
Then we build the variables by adding as many mean and/or fluctuating components as necessary. These components must have been defined above. In velocity/pressure formulation, the x velocity would be:
```
>>linear_variable_full_build :: + uMean <<
>>linear_variable_full_build :: + u <<
```
Had we elected to use velocity potentials instead, we would define `uFull` as:
```
>>linear_variable_full_build :: + uMean <<
>>linear_variable_full_build :: - dy.psi <<
>>linear_variable_full_build :: + dx.dz.phi <<
```

* * *
## Defining quadratic variables
* * * 

The "full" linear variables defined above can be combined into quadratic variables. We actually need to define as many quadratic variables as there are in our set of equations. The format is 
```
>>quadratic_variable :: qVarName := linearVar1.linearVar2 <<
```
where `linearVar1` and `linearVar2` (which can point to the same variable, btw), must have been defined as `linear_variable_full` above. For example:
```
>>quadratic_variable :: uu := uFull.uFull <<
>>quadratic_variable :: vw := vFull.wFull <<
```
* * *
## Interlude: The quasi-Inverse technique
* * *

The keep the condition number of matrices under control (and prevent any loss of accuracy as the number of Chebyshev polynomials increases), we use the quasi-inverse technique. (See, e.g. Zebib, J. Comput. Phys. (1984) or Greengard, SIAM J. Numer. Anal. (1991), or Julien and Watson, J. Comput. Phys. (2009)]. 

The spirit of this approach is merely to eliminate all derivatives with respect to z by consecutive integrations with respect to z. For instance, the heat equation:
\begin{equation}
\frac{du}{dt}= \frac{d^2u}{dx^2} + \frac{d^2u}{dy^2}+ \frac{d^2u}{dz^2} 
\end{equation}
is second order in z. Upon double integration w.r.t. z (denoted with `I`), one obtains:
```
d/dt( II u ) = II du/dxx + II du/dyy + u
```
Observe that this method typically introduces primitive operators `I` in the time-derivative. Integration constant need not be explicited (they will automatically be taken into account with boundary conditions). Before we enter equation, the prerequisite is to rewrite our governing equations using this method. Upon completion of this task, we are ready to enter them. 

* * *
## Entering equations
* * *
Just as we distinguish mean and fluctuations for the variables, we distinguish equations for the mean and the fluctuations. We first define equations for fluctuations. Each set of linearly coupled equations for the fluctuating components is announced with 
``` 
>>add_set_of_coupled_kxky_equations <<
```
Below follow a list of the linearly coupled vars, with their boundary conditions:
```
>>linearly_coupled_var :: u <<
>>add_BC_for_this_var :: 20 <<
>>linearly_coupled_var :: v <<
>>add_BC_for_this_var :: 20 <<
```
Boundary conditions are entered as integers: 
+ `0` : no boundary condition for this variable
+ `20` : Dirichlet on both sides
+ `21` : Neuman on both sides
+ `40` : Dirichlet *and* Neuman on both sides (think `phi` potential)

After this list, enter equations of the coupled system one by one. For each equation, we start by defining its order:
```
>>new_equation :: 2 <<
```
Three kinds of contributions can enter the equations: linear terms in the time-derivative; linear terms in the right hand side (rhs); quadratic terms in the rhs. They are respectively prefixed with `>>add_d/dt_term `, `>>add_rhs_linear`, and `>>add_rhs_NL`. Each contribution is a sum of terms, each of which contains : 
+ a sign `+/-`, which *has to* be defined. (There is no convention that a missing sign is a plus sign. This is an easymistake and a frequent cause of errors. Another common source of error is that *this sign has to be surrounded by spaces*)
+ exactly one linear or quadratic variable name
+ the variable can be multiplied by one or more parameters
+ the variable can be differentiated (`dx`, `dy`) or integrated (`Iz`) 
+ single dots '.' in between these parameters/factors/variables to serve as mortar

Repeat until all the equations in a given coupled system are defined; then repeat until all the coupled systems are defined. (Sometimes, all variables are linearly coupled and only one coupled system is needed. When possible, it's best from a performance standpoint to break the problem into numerous independant sets of linearly coupled equations.); then repeat with mean equations, the only difference being the declaration `>>add_set_of_coupled_zero_equations <<` (Observe that in the Rayleigh-Benard example, mean velocity and mean temperature are linearly decoupled and defined as such.)
* * *
## Pitfalls
* * * 

The text file will be read by C routines, and the information will be processed by fortran routines to cast it into derived types. As a whole, this workflow is unforgiving to formatting error. Below is a check list in case of mysterious crashes:

+ all lines end with `<<` preceeded by a space
+ all lines start with `>>infoTag` followed by at least a space
+ when a line contains `::`, these 2 symbols must be preceeded and followed by a space
+ when a line contains `:=`, these 2 symbols must be preceeded and followed by a space
+ when a line contains `:=`, these 2 symbols must be preceeded and followed by a space
+ all terms following `add_d/dt_term`, `add_rhs_linear`, `add_rhs_NL` have signs, surrounded by spaces. Products are figured by a dot (without space)
+ `>>EOF<<` marks the end of the file

